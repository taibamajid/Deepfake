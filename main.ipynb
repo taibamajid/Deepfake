{
 "cells": [
  {
   "cell_type": "code",
   "execution_count": 1,
   "id": "0036788a",
   "metadata": {},
   "outputs": [],
   "source": [
    "import os\n",
    "import librosa\n",
    "import librosa.display\n",
    "import numpy as np\n",
    "import matplotlib.pyplot as plt\n",
    "from tensorflow.keras.models import Sequential\n",
    "from tensorflow.keras.layers import Dense, Dropout, Flatten, Conv2D, MaxPooling2D\n",
    "from tensorflow.keras.optimizers import Adam\n",
    "from tensorflow.keras.preprocessing.image import ImageDataGenerator"
   ]
  },
  {
   "cell_type": "code",
   "execution_count": 2,
   "id": "343ac7ff",
   "metadata": {},
   "outputs": [],
   "source": [
    "#train_input_dir = 'F://Taiba//FoR_limited sample//Combined//training//'\n",
    "train_output_dir = 'F://Taiba//FoR_limited sample//Combined//training_spectrograms//'\n",
    "#val_input_dir = 'F://Taiba//FoR_limited sample//2seconds//validation//'\n",
    "#val_output_dir = 'F://Taiba//FoR_limited sample//2seconds//validation_spectrograms//'\n",
    "#test_input_dir = 'F://Taiba//FoR_limited sample//Combined//testing//'\n",
    "test_output_dir = 'F://Taiba//FoR_limited sample//Combined//testing_spectrograms//'\n"
   ]
  },
  {
   "cell_type": "code",
   "execution_count": 3,
   "id": "7f8a2244",
   "metadata": {},
   "outputs": [],
   "source": [
    "def generate_spectrogram(input_dir, output_dir):\n",
    "    for root, dirs, files in os.walk(input_dir):\n",
    "        for file in files:\n",
    "            if file.endswith('.wav'):\n",
    "                audio_path = os.path.join(root, file)\n",
    "                y, sr = librosa.load(audio_path, sr=None)\n",
    "                S = librosa.feature.melspectrogram(y=y, sr=sr)\n",
    "                S_dB = librosa.power_to_db(S, ref=np.max)\n",
    "\n",
    "                plt.figure(figsize=(10, 4))\n",
    "                librosa.display.specshow(S_dB, sr=sr, x_axis='time', y_axis='mel')\n",
    "                plt.colorbar(format='%+2.0f dB')\n",
    "                plt.tight_layout()\n",
    "\n",
    "                class_label = os.path.basename(root)\n",
    "                save_dir = os.path.join(output_dir, class_label)\n",
    "                os.makedirs(save_dir, exist_ok=True)\n",
    "                save_file = os.path.splitext(file)[0] + '.png'\n",
    "                save_file_path = os.path.join(save_dir, save_file)\n",
    "                plt.savefig(save_file_path)\n",
    "                plt.close()\n"
   ]
  },
  {
   "cell_type": "code",
   "execution_count": 4,
   "id": "143b331d",
   "metadata": {},
   "outputs": [
    {
     "ename": "NameError",
     "evalue": "name 'val_input_dir' is not defined",
     "output_type": "error",
     "traceback": [
      "\u001b[1;31m---------------------------------------------------------------------------\u001b[0m",
      "\u001b[1;31mNameError\u001b[0m                                 Traceback (most recent call last)",
      "Cell \u001b[1;32mIn[4], line 2\u001b[0m\n\u001b[0;32m      1\u001b[0m \u001b[38;5;66;03m#generate_spectrogram(train_input_dir, train_output_dir)\u001b[39;00m\n\u001b[1;32m----> 2\u001b[0m generate_spectrogram(\u001b[43mval_input_dir\u001b[49m, val_output_dir)\n",
      "\u001b[1;31mNameError\u001b[0m: name 'val_input_dir' is not defined"
     ]
    }
   ],
   "source": [
    "#generate_spectrogram(train_input_dir, train_output_dir)\n",
    "generate_spectrogram(val_input_dir, val_output_dir)\n",
    "#generate_spectrogram(test_input_dir, test_output_dir)\n"
   ]
  },
  {
   "cell_type": "code",
   "execution_count": 4,
   "id": "fdf3986e",
   "metadata": {},
   "outputs": [
    {
     "name": "stdout",
     "output_type": "stream",
     "text": [
      "Found 23238 images belonging to 2 classes.\n",
      "Found 11406 images belonging to 2 classes.\n"
     ]
    }
   ],
   "source": [
    "train_datagen = ImageDataGenerator(rescale=1./255)\n",
    "val_datagen = ImageDataGenerator(rescale=1./255)\n",
    "test_datagen = ImageDataGenerator(rescale=1./255)\n",
    "\n",
    "train_generator = train_datagen.flow_from_directory(\n",
    "    train_output_dir,\n",
    "    target_size=(224, 224),\n",
    "    batch_size=32,\n",
    "    class_mode='binary'\n",
    ")\n",
    "\n",
    "#val_generator = val_datagen.flow_from_directory(\n",
    "    #val_output_dir,\n",
    "    #target_size=(224, 224),\n",
    "    #batch_size=32,\n",
    "    #class_mode='binary'\n",
    "#)\n",
    "\n",
    "test_generator = test_datagen.flow_from_directory(\n",
    "    test_output_dir,\n",
    "    target_size=(224, 224),\n",
    "    batch_size=32,\n",
    "    class_mode='binary'\n",
    ")\n"
   ]
  },
  {
   "cell_type": "code",
   "execution_count": 5,
   "id": "87888c1f",
   "metadata": {},
   "outputs": [],
   "source": [
    "input_shape = (224, 224, 3)"
   ]
  },
  {
   "cell_type": "code",
   "execution_count": 6,
   "id": "70b631ac",
   "metadata": {},
   "outputs": [
    {
     "name": "stdout",
     "output_type": "stream",
     "text": [
      "Epoch 1/20\n",
      "727/727 [==============================] - 338s 460ms/step - loss: 0.3465 - accuracy: 0.8276\n",
      "Epoch 2/20\n",
      "727/727 [==============================] - 187s 257ms/step - loss: 0.1209 - accuracy: 0.9541\n",
      "Epoch 3/20\n",
      "727/727 [==============================] - 126s 173ms/step - loss: 0.0785 - accuracy: 0.9715\n",
      "Epoch 4/20\n",
      "727/727 [==============================] - 126s 173ms/step - loss: 0.0609 - accuracy: 0.9777\n",
      "Epoch 5/20\n",
      "727/727 [==============================] - 127s 174ms/step - loss: 0.0455 - accuracy: 0.9842\n",
      "Epoch 6/20\n",
      "727/727 [==============================] - 129s 177ms/step - loss: 0.0357 - accuracy: 0.9876\n",
      "Epoch 7/20\n",
      "727/727 [==============================] - 125s 171ms/step - loss: 0.0304 - accuracy: 0.9897\n",
      "Epoch 8/20\n",
      "727/727 [==============================] - 124s 171ms/step - loss: 0.0215 - accuracy: 0.9920\n",
      "Epoch 9/20\n",
      "727/727 [==============================] - 124s 170ms/step - loss: 0.0188 - accuracy: 0.9930\n",
      "Epoch 10/20\n",
      "727/727 [==============================] - 124s 170ms/step - loss: 0.0140 - accuracy: 0.9954\n",
      "Epoch 11/20\n",
      "727/727 [==============================] - 124s 170ms/step - loss: 0.0110 - accuracy: 0.9965\n",
      "Epoch 12/20\n",
      "727/727 [==============================] - 124s 171ms/step - loss: 0.0105 - accuracy: 0.9965\n",
      "Epoch 13/20\n",
      "727/727 [==============================] - 124s 170ms/step - loss: 0.0095 - accuracy: 0.9969\n",
      "Epoch 14/20\n",
      "727/727 [==============================] - 125s 172ms/step - loss: 0.0094 - accuracy: 0.9966\n",
      "Epoch 15/20\n",
      "727/727 [==============================] - 124s 170ms/step - loss: 0.0059 - accuracy: 0.9984\n",
      "Epoch 16/20\n",
      "727/727 [==============================] - 124s 171ms/step - loss: 0.0059 - accuracy: 0.9981\n",
      "Epoch 17/20\n",
      "727/727 [==============================] - 124s 170ms/step - loss: 0.0065 - accuracy: 0.9978 - loss: 0.0065 - accu\n",
      "Epoch 18/20\n",
      "727/727 [==============================] - 124s 171ms/step - loss: 0.0046 - accuracy: 0.9986\n",
      "Epoch 19/20\n",
      "727/727 [==============================] - 124s 170ms/step - loss: 0.0047 - accuracy: 0.9985\n",
      "Epoch 20/20\n",
      "727/727 [==============================] - 124s 171ms/step - loss: 0.0028 - accuracy: 0.9992\n",
      "357/357 [==============================] - 166s 465ms/step - loss: 1.5329 - accuracy: 0.8274\n",
      "Test accuracy: 0.8273715376853943\n",
      "727/727 [==============================] - 123s 169ms/step - loss: 0.0013 - accuracy: 0.9998 - loss:\n",
      "Train accuracy: 0.9998278617858887\n"
     ]
    }
   ],
   "source": [
    "model = Sequential()\n",
    "model.add(Conv2D(32, (3, 3), activation='relu', input_shape=(224, 224, 3)))\n",
    "model.add(MaxPooling2D((2, 2)))\n",
    "model.add(Conv2D(64, (3, 3), activation='relu'))\n",
    "model.add(MaxPooling2D((2, 2)))\n",
    "model.add(Conv2D(128, (3, 3), activation='relu'))\n",
    "model.add(MaxPooling2D((2, 2)))\n",
    "model.add(Conv2D(128, (3, 3), activation='relu'))\n",
    "model.add(MaxPooling2D((2, 2)))\n",
    "model.add(Flatten())\n",
    "model.add(Dense(512, activation='relu'))\n",
    "model.add(Dropout(0.5))\n",
    "model.add(Dense(1, activation='sigmoid'))\n",
    "\n",
    "model.compile(optimizer=Adam(learning_rate=1e-4), loss='binary_crossentropy', metrics=['accuracy'])\n",
    "\n",
    "history = model.fit(train_generator, epochs=20)\n",
    "\n",
    "test_loss, test_accuracy = model.evaluate(test_generator)\n",
    "print('Test accuracy:', test_accuracy)\n",
    "\n",
    "train_loss, train_accuracy = model.evaluate(train_generator)\n",
    "print('Train accuracy:', train_accuracy)\n"
   ]
  },
  {
   "cell_type": "code",
   "execution_count": null,
   "id": "4fdfc8c2",
   "metadata": {},
   "outputs": [],
   "source": []
  }
 ],
 "metadata": {
  "kernelspec": {
   "display_name": "Python 3 (ipykernel)",
   "language": "python",
   "name": "python3"
  },
  "language_info": {
   "codemirror_mode": {
    "name": "ipython",
    "version": 3
   },
   "file_extension": ".py",
   "mimetype": "text/x-python",
   "name": "python",
   "nbconvert_exporter": "python",
   "pygments_lexer": "ipython3",
   "version": "3.9.16"
  }
 },
 "nbformat": 4,
 "nbformat_minor": 5
}
