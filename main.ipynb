{
 "cells": [
  {
   "cell_type": "code",
   "execution_count": 1,
   "id": "0036788a",
   "metadata": {},
   "outputs": [],
   "source": [
    "import os\n",
    "import librosa\n",
    "import librosa.display\n",
    "import numpy as np\n",
    "import matplotlib.pyplot as plt\n",
    "from tensorflow.keras.models import Sequential\n",
    "from tensorflow.keras.layers import Dense, Dropout, Flatten, Conv2D, MaxPooling2D\n",
    "from tensorflow.keras.optimizers import Adam\n",
    "from tensorflow.keras.preprocessing.image import ImageDataGenerator"
   ]
  },
  {
   "cell_type": "code",
   "execution_count": 2,
   "id": "343ac7ff",
   "metadata": {},
   "outputs": [],
   "source": [
    "#train_input_dir = 'F://Taiba//FoR_limited sample//Combined//training//'\n",
    "train_output_dir = 'F://Taiba//FoR_limited sample//Combined//training_spectrograms//'\n",
    "#val_input_dir = 'F://Taiba//FoR_limited sample//2seconds//validation//'\n",
    "#val_output_dir = 'F://Taiba//FoR_limited sample//2seconds//validation_spectrograms//'\n",
    "#test_input_dir = 'F://Taiba//FoR_limited sample//Combined//testing//'\n",
    "test_output_dir = 'F://Taiba//FoR_limited sample//Combined//testing_spectrograms//'\n"
   ]
  },
  {
   "cell_type": "code",
   "execution_count": 3,
   "id": "7f8a2244",
   "metadata": {},
   "outputs": [],
   "source": [
    "def generate_spectrogram(input_dir, output_dir):\n",
    "    for root, dirs, files in os.walk(input_dir):\n",
    "        for file in files:\n",
    "            if file.endswith('.wav'):\n",
    "                audio_path = os.path.join(root, file)\n",
    "                y, sr = librosa.load(audio_path, sr=None)\n",
    "                S = librosa.feature.melspectrogram(y=y, sr=sr)\n",
    "                S_dB = librosa.power_to_db(S, ref=np.max)\n",
    "\n",
    "                plt.figure(figsize=(10, 4))\n",
    "                librosa.display.specshow(S_dB, sr=sr, x_axis='time', y_axis='mel')\n",
    "                plt.colorbar(format='%+2.0f dB')\n",
    "                plt.tight_layout()\n",
    "\n",
    "                class_label = os.path.basename(root)\n",
    "                save_dir = os.path.join(output_dir, class_label)\n",
    "                os.makedirs(save_dir, exist_ok=True)\n",
    "                save_file = os.path.splitext(file)[0] + '.png'\n",
    "                save_file_path = os.path.join(save_dir, save_file)\n",
    "                plt.savefig(save_file_path)\n",
    "                plt.close()\n"
   ]
  },
  {
   "cell_type": "code",
   "execution_count": null,
   "id": "143b331d",
   "metadata": {},
   "outputs": [],
   "source": [
    "#generate_spectrogram(train_input_dir, train_output_dir)\n",
    "generate_spectrogram(val_input_dir, val_output_dir)\n",
    "#generate_spectrogram(test_input_dir, test_output_dir)\n"
   ]
  },
  {
   "cell_type": "code",
   "execution_count": 4,
   "id": "fdf3986e",
   "metadata": {},
   "outputs": [
    {
     "name": "stdout",
     "output_type": "stream",
     "text": [
      "Found 23238 images belonging to 2 classes.\n",
      "Found 11406 images belonging to 2 classes.\n"
     ]
    }
   ],
   "source": [
    "train_datagen = ImageDataGenerator(rescale=1./255)\n",
    "val_datagen = ImageDataGenerator(rescale=1./255)\n",
    "test_datagen = ImageDataGenerator(rescale=1./255)\n",
    "\n",
    "train_generator = train_datagen.flow_from_directory(\n",
    "    train_output_dir,\n",
    "    target_size=(224, 224),\n",
    "    batch_size=32,\n",
    "    class_mode='binary'\n",
    ")\n",
    "\n",
    "#val_generator = val_datagen.flow_from_directory(\n",
    "    #val_output_dir,\n",
    "    #target_size=(224, 224),\n",
    "    #batch_size=32,\n",
    "    #class_mode='binary'\n",
    "#)\n",
    "\n",
    "test_generator = test_datagen.flow_from_directory(\n",
    "    test_output_dir,\n",
    "    target_size=(224, 224),\n",
    "    batch_size=32,\n",
    "    class_mode='binary'\n",
    ")\n"
   ]
  },
  {
   "cell_type": "code",
   "execution_count": 5,
   "id": "87888c1f",
   "metadata": {},
   "outputs": [],
   "source": [
    "input_shape = (224, 224, 3)"
   ]
  },
  {
   "cell_type": "code",
   "execution_count": null,
   "id": "70b631ac",
   "metadata": {},
   "outputs": [],
   "source": [
    "model = Sequential()\n",
    "model.add(Conv2D(32, (3, 3), activation='relu', input_shape=(224, 224, 3)))\n",
    "model.add(MaxPooling2D((2, 2)))\n",
    "model.add(Conv2D(64, (3, 3), activation='relu'))\n",
    "model.add(MaxPooling2D((2, 2)))\n",
    "model.add(Conv2D(128, (3, 3), activation='relu'))\n",
    "model.add(MaxPooling2D((2, 2)))\n",
    "model.add(Conv2D(128, (3, 3), activation='relu'))\n",
    "model.add(MaxPooling2D((2, 2)))\n",
    "model.add(Flatten())\n",
    "model.add(Dense(512, activation='relu'))\n",
    "model.add(Dropout(0.5))\n",
    "model.add(Dense(1, activation='sigmoid'))\n",
    "\n",
    "model.compile(optimizer=Adam(learning_rate=1e-4), loss='binary_crossentropy', metrics=['accuracy'])\n",
    "\n",
    "history = model.fit(train_generator, epochs=50)\n",
    "\n",
    "test_loss, test_accuracy = model.evaluate(test_generator)\n",
    "print('Test accuracy:', test_accuracy)\n",
    "\n",
    "train_loss, train_accuracy = model.evaluate(train_generator)\n",
    "print('Train accuracy:', train_accuracy)\n"
   ]
  },
  {
   "cell_type": "code",
   "execution_count": null,
   "id": "4fdfc8c2",
   "metadata": {},
   "outputs": [],
   "source": []
  }
 ],
 "metadata": {
  "kernelspec": {
   "display_name": "Python 3 (ipykernel)",
   "language": "python",
   "name": "python3"
  },
  "language_info": {
   "codemirror_mode": {
    "name": "ipython",
    "version": 3
   },
   "file_extension": ".py",
   "mimetype": "text/x-python",
   "name": "python",
   "nbconvert_exporter": "python",
   "pygments_lexer": "ipython3",
   "version": "3.9.16"
  }
 },
 "nbformat": 4,
 "nbformat_minor": 5
}
